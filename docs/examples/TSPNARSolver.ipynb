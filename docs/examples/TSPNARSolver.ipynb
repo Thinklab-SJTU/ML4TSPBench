{
 "cells": [
  {
   "cell_type": "markdown",
   "metadata": {},
   "source": [
    "# TSPNARSolver"
   ]
  },
  {
   "cell_type": "markdown",
   "metadata": {},
   "source": [
    "### Preparation For TSPNARSolver"
   ]
  },
  {
   "cell_type": "markdown",
   "metadata": {},
   "source": [
    "1. Import necessary libraries"
   ]
  },
  {
   "cell_type": "code",
   "execution_count": 1,
   "metadata": {},
   "outputs": [],
   "source": [
    "import os\n",
    "import torch\n",
    "import numpy as np\n",
    "from solvers import TSPNARSolver\n",
    "os.environ[\"CUDA_VISIBLE_DEVICES\"] = \"1\""
   ]
  },
  {
   "cell_type": "markdown",
   "metadata": {},
   "source": [
    "2. Determine if the current environment supports CUDA & Set cuda divice index if support CUDA"
   ]
  },
  {
   "cell_type": "code",
   "execution_count": 2,
   "metadata": {},
   "outputs": [
    {
     "name": "stdout",
     "output_type": "stream",
     "text": [
      "CUDA is not available. Using GPU.\n"
     ]
    }
   ],
   "source": [
    "if torch.cuda.is_available():\n",
    "    device = 'cuda'\n",
    "    print(f\"CUDA is not available. Using GPU.\")\n",
    "else:\n",
    "    device = torch.device(\"cpu\")\n",
    "    device = 'cpu'\n",
    "    print(\"CUDA is not available. Using CPU.\")"
   ]
  },
  {
   "cell_type": "markdown",
   "metadata": {},
   "source": [
    "3. Initialize solver"
   ]
  },
  {
   "cell_type": "code",
   "execution_count": 3,
   "metadata": {},
   "outputs": [],
   "source": [
    "solver = TSPNARSolver()"
   ]
  },
  {
   "cell_type": "markdown",
   "metadata": {},
   "source": [
    "### Methods of Gain Data"
   ]
  },
  {
   "cell_type": "markdown",
   "metadata": {},
   "source": [
    "1. Using the method 'from_txt' to read tsp data from txt text"
   ]
  },
  {
   "cell_type": "code",
   "execution_count": 4,
   "metadata": {},
   "outputs": [
    {
     "name": "stdout",
     "output_type": "stream",
     "text": [
      "shape:  (1280, 50, 2)\n",
      "part of points: \n",
      " [[0.90242105 0.77621272]\n",
      " [0.72272724 0.57902476]\n",
      " [0.2022225  0.62984893]\n",
      " [0.57768333 0.94373534]\n",
      " [0.38780187 0.84623115]\n",
      " [0.24829528 0.52655766]\n",
      " [0.36796211 0.57874947]\n",
      " [0.5558965  0.25165348]\n",
      " [0.90725561 0.24524903]\n",
      " [0.52544532 0.11525664]]\n"
     ]
    }
   ],
   "source": [
    "solver.from_txt(\"data/uniform/test/tsp50_concorde.txt\")\n",
    "print(\"shape: \", solver.points.shape)\n",
    "print(\"part of points: \\n\", solver.points[0, :10, :])"
   ]
  },
  {
   "cell_type": "markdown",
   "metadata": {},
   "source": [
    "2. You can also use the method 'from_tspfile' to read tsp data from .tsp file"
   ]
  },
  {
   "cell_type": "code",
   "execution_count": 5,
   "metadata": {},
   "outputs": [
    {
     "name": "stdout",
     "output_type": "stream",
     "text": [
      "shape:  (1, 280, 2)\n",
      "part of points: \n",
      " [[288 149]\n",
      " [288 129]\n",
      " [270 133]\n",
      " [256 141]\n",
      " [256 157]\n",
      " [246 157]\n",
      " [236 169]\n",
      " [228 169]\n",
      " [228 161]\n",
      " [220 169]]\n"
     ]
    }
   ],
   "source": [
    "solver.from_tspfile(\"data/tsplibs/raw/read/a280.tsp\")\n",
    "print(\"shape: \", solver.points.shape)\n",
    "print(\"part of points: \\n\", solver.points[0, :10, :])"
   ]
  },
  {
   "cell_type": "markdown",
   "metadata": {},
   "source": [
    "3. Of course, you can also input the data yourself, just by the method 'from_data'"
   ]
  },
  {
   "cell_type": "code",
   "execution_count": 6,
   "metadata": {},
   "outputs": [
    {
     "name": "stdout",
     "output_type": "stream",
     "text": [
      "shape:  (1280, 50, 2)\n",
      "part of points: \n",
      " [[0.6282648  0.3789066 ]\n",
      " [0.94782335 0.17658177]\n",
      " [0.18260663 0.47274821]\n",
      " [0.66456322 0.90928508]\n",
      " [0.07616946 0.2099578 ]\n",
      " [0.12141339 0.74844482]\n",
      " [0.63581995 0.83035814]\n",
      " [0.79101488 0.54059625]\n",
      " [0.05281814 0.70044551]\n",
      " [0.13681158 0.08443738]]\n"
     ]
    }
   ],
   "source": [
    "solver.from_data(np.random.random([1280, 50, 2]))\n",
    "print(\"shape: \", solver.points.shape)\n",
    "print(\"part of points: \\n\", solver.points[0, :10, :])"
   ]
  },
  {
   "cell_type": "markdown",
   "metadata": {},
   "source": [
    "### Solve the TSP Problem"
   ]
  },
  {
   "cell_type": "markdown",
   "metadata": {},
   "source": [
    "1. The simplest way is to use the solve method without entering any parameters"
   ]
  },
  {
   "cell_type": "code",
   "execution_count": 7,
   "metadata": {},
   "outputs": [
    {
     "name": "stderr",
     "output_type": "stream",
     "text": [
      "Begin encoding, Using TSPGNN(\n",
      "  (model): GNNEncoder(\n",
      "    (node_embed): Linear(in_features=256, out_features=256, bias=True)\n",
      "    (edge_embed): Linear(in_features=256, out_features=256, bias=True)\n",
      "    (pos_embed): PositionEmbeddingSine()\n",
      "    (edge_pos_embed): ScalarEmbeddingSine()\n",
      "    (out): Sequential(\n",
      "      (0): GroupNorm32(32, 256, eps=1e-05, affine=True)\n",
      "      (1): ReLU()\n",
      "      (2): Conv2d(256, 2, kernel_size=(1, 1), stride=(1, 1))\n",
      "    )\n",
      "    (layers): ModuleList(\n",
      "      (0-11): 12 x GNNLayer(\n",
      "        (U): Linear(in_features=256, out_features=256, bias=True)\n",
      "        (V): Linear(in_features=256, out_features=256, bias=True)\n",
      "        (A): Linear(in_features=256, out_features=256, bias=True)\n",
      "        (B): Linear(in_features=256, out_features=256, bias=True)\n",
      "        (C): Linear(in_features=256, out_features=256, bias=True)\n",
      "        (norm_h): LayerNorm((256,), eps=1e-05, elementwise_affine=True)\n",
      "        (norm_e): LayerNorm((256,), eps=1e-05, elementwise_affine=True)\n",
      "      )\n",
      "    )\n",
      "    (per_layer_out): ModuleList(\n",
      "      (0-11): 12 x Sequential(\n",
      "        (0): LayerNorm((256,), eps=1e-05, elementwise_affine=True)\n",
      "        (1): SiLU()\n",
      "        (2): Linear(in_features=256, out_features=256, bias=True)\n",
      "      )\n",
      "    )\n",
      "  )\n",
      ")\n",
      "Loading Weights from Pretrained CheckPoint\n"
     ]
    },
    {
     "name": "stdout",
     "output_type": "stream",
     "text": [
      "\n",
      "Downloading to ckpts/tsp50_gnn.ckpt...\n",
      "\n",
      "Downloading to ckpts/tsp50_gnn.ckpt...\n"
     ]
    }
   ],
   "source": [
    "tours = solver.solve(device=device)\n",
    "print(\"shape: \", tours.shape)\n",
    "print(tours[0])"
   ]
  },
  {
   "cell_type": "markdown",
   "metadata": {},
   "source": [
    "2. After further solving, the evaluation method can be used to evaluate the quality of the solution"
   ]
  },
  {
   "cell_type": "code",
   "execution_count": null,
   "metadata": {},
   "outputs": [
    {
     "name": "stdout",
     "output_type": "stream",
     "text": [
      "avearge cost is 5.798499534896645\n"
     ]
    }
   ],
   "source": [
    "avg_cost = solver.evaluate()\n",
    "print(f\"avearge cost is {avg_cost}\")"
   ]
  },
  {
   "cell_type": "markdown",
   "metadata": {},
   "source": [
    "3. Of course, you can also input some solving parameters and use custom encoders and decoders"
   ]
  },
  {
   "cell_type": "code",
   "execution_count": null,
   "metadata": {},
   "outputs": [
    {
     "name": "stderr",
     "output_type": "stream",
     "text": [
      "Begin encoding, Using TSPGNNWISE(\n",
      "  (model): GNNEncoder(\n",
      "    (node_embed): Linear(in_features=256, out_features=256, bias=True)\n",
      "    (edge_embed): Linear(in_features=256, out_features=256, bias=True)\n",
      "    (pos_embed): PositionEmbeddingSine()\n",
      "    (edge_pos_embed): ScalarEmbeddingSine()\n",
      "    (out): Sequential(\n",
      "      (0): GroupNorm32(32, 256, eps=1e-05, affine=True)\n",
      "      (1): ReLU()\n",
      "      (2): Conv2d(256, 2, kernel_size=(1, 1), stride=(1, 1))\n",
      "    )\n",
      "    (layers): ModuleList(\n",
      "      (0-11): 12 x GNNLayer(\n",
      "        (U): Linear(in_features=256, out_features=256, bias=True)\n",
      "        (V): Linear(in_features=256, out_features=256, bias=True)\n",
      "        (A): Linear(in_features=256, out_features=256, bias=True)\n",
      "        (B): Linear(in_features=256, out_features=256, bias=True)\n",
      "        (C): Linear(in_features=256, out_features=256, bias=True)\n",
      "        (norm_h): LayerNorm((256,), eps=1e-05, elementwise_affine=True)\n",
      "        (norm_e): LayerNorm((256,), eps=1e-05, elementwise_affine=True)\n",
      "      )\n",
      "    )\n",
      "    (per_layer_out): ModuleList(\n",
      "      (0-11): 12 x Sequential(\n",
      "        (0): LayerNorm((256,), eps=1e-05, elementwise_affine=True)\n",
      "        (1): SiLU()\n",
      "        (2): Linear(in_features=256, out_features=256, bias=True)\n",
      "      )\n",
      "    )\n",
      "  )\n",
      ")\n",
      "Loading Weights from Pretrained CheckPoint\n",
      "Processing: 100%|██████████| 80/80 [00:02<00:00, 36.87it/s]\n",
      "Begin Decoding, Using tsp_greedy\n",
      "Decoding: 100%|██████████| 1280/1280 [00:00<00:00, 1722.32it/s]\n",
      "Begin Local Search, Using tsp_mcts\n",
      "Local Search: 100%|██████████| 1280/1280 [00:01<00:00, 1045.41it/s]\n"
     ]
    },
    {
     "name": "stdout",
     "output_type": "stream",
     "text": [
      "avearge cost is 6.372312794793137\n"
     ]
    }
   ],
   "source": [
    "solver.solve(\n",
    "    encoder='gnn-wise',\n",
    "    decoding_type=\"greedy\", \n",
    "    ls_type=\"mcts\",\n",
    "    ls_kwargs={\n",
    "        \"mcts_max_depth\": 10, \n",
    "        \"max_iterations_2opt\": 1000\n",
    "    },\n",
    "    device='cuda',\n",
    ")\n",
    "avg_cost = solver.evaluate()\n",
    "print(f\"avearge cost is {avg_cost}\")"
   ]
  },
  {
   "cell_type": "markdown",
   "metadata": {},
   "source": []
  }
 ],
 "metadata": {
  "kernelspec": {
   "display_name": "bench4co",
   "language": "python",
   "name": "python3"
  },
  "language_info": {
   "codemirror_mode": {
    "name": "ipython",
    "version": 3
   },
   "file_extension": ".py",
   "mimetype": "text/x-python",
   "name": "python",
   "nbconvert_exporter": "python",
   "pygments_lexer": "ipython3",
   "version": "3.8.18"
  }
 },
 "nbformat": 4,
 "nbformat_minor": 2
}
